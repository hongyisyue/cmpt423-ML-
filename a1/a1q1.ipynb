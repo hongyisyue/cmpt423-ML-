{
 "cells": [
  {
   "cell_type": "markdown",
   "metadata": {},
   "source": [
    "# A1Q1 cmpt423\n",
    "Hongyi Xue\n",
    "hox294\n",
    "11187674"
   ]
  },
  {
   "cell_type": "markdown",
   "metadata": {},
   "source": [
    "1. Create a new dataset using model parameters(most are constant)"
   ]
  },
  {
   "cell_type": "code",
   "execution_count": 1,
   "metadata": {},
   "outputs": [
    {
     "data": {
      "text/plain": [
       "<Figure size 640x480 with 1 Axes>"
      ]
     },
     "metadata": {},
     "output_type": "display_data"
    },
    {
     "name": "stdout",
     "output_type": "stream",
     "text": [
      "[0.61386139 0.61386139 0.62       0.62       0.62       0.62\n",
      " 0.62       0.62       0.61616162 0.61616162]\n",
      "0.6180046004600459\n",
      "Accuracy 0.618\n"
     ]
    },
    {
     "data": {
      "text/plain": [
       "<Figure size 640x480 with 1 Axes>"
      ]
     },
     "metadata": {},
     "output_type": "display_data"
    },
    {
     "name": "stdout",
     "output_type": "stream",
     "text": [
      "[0.58415842 0.54455446 0.62376238 0.61386139 0.64356436 0.57575758\n",
      " 0.58585859 0.63636364 0.60606061 0.61616162]\n",
      "0.6030103010301031\n",
      "Accuracy 0.611\n"
     ]
    },
    {
     "data": {
      "text/plain": [
       "<Figure size 640x480 with 1 Axes>"
      ]
     },
     "metadata": {},
     "output_type": "display_data"
    },
    {
     "name": "stdout",
     "output_type": "stream",
     "text": [
      "[0.66336634 0.67326733 0.67       0.74       0.58       0.69\n",
      " 0.67       0.72       0.6969697  0.60606061]\n",
      "0.6709663966396641\n",
      "Accuracy 0.671\n"
     ]
    },
    {
     "data": {
      "text/plain": [
       "<Figure size 640x480 with 1 Axes>"
      ]
     },
     "metadata": {},
     "output_type": "display_data"
    },
    {
     "name": "stdout",
     "output_type": "stream",
     "text": [
      "[0.72277228 0.78217822 0.83168317 0.78       0.85       0.83\n",
      " 0.8        0.86868687 0.74747475 0.82828283]\n",
      "0.8041078107810782\n",
      "Accuracy 0.804\n"
     ]
    },
    {
     "data": {
      "text/plain": [
       "<Figure size 640x480 with 1 Axes>"
      ]
     },
     "metadata": {},
     "output_type": "display_data"
    },
    {
     "name": "stdout",
     "output_type": "stream",
     "text": [
      "[0.88118812 0.9009901  0.93069307 0.89       0.85       0.84\n",
      " 0.82       0.85858586 0.87878788 0.88888889]\n",
      "0.873913391339134\n",
      "Accuracy 0.874\n"
     ]
    },
    {
     "data": {
      "text/plain": [
       "<Figure size 640x480 with 1 Axes>"
      ]
     },
     "metadata": {},
     "output_type": "display_data"
    },
    {
     "name": "stdout",
     "output_type": "stream",
     "text": [
      "[1. 1. 1. 1. 1. 1. 1. 1. 1. 1.]\n",
      "1.0\n",
      "Accuracy 1.0\n"
     ]
    }
   ],
   "source": [
    "import numpy.random as nprand\n",
    "import numpy as np\n",
    "import math as math\n",
    "import pandas as pd\n",
    "import matplotlib.pyplot as plt\n",
    "from sklearn.naive_bayes import MultinomialNB, BernoulliNB\n",
    "from sklearn.metrics import accuracy_score\n",
    "from sklearn.model_selection import cross_val_score\n",
    "\n",
    "\n",
    "d_list = []\n",
    "acc_list = []\n",
    "\n",
    "for d in range(0,6):\n",
    "    theta_c0 = 0.6\n",
    "    theta_c1 = 1 - theta_c0\n",
    "    #theta_f1_c0 = 0.1\n",
    "    #theta_f0_c0 = 1 - theta_f1_c0\n",
    "\n",
    "    #theta_f1_c1 = 0.9\n",
    "    #theta_f0_c1 = 1 - theta_f1_c1\n",
    "\n",
    "    theta_f0_c0 = 0.5 + (d/10) #not fixed\n",
    "    theta_f0_c1 = 1 - theta_f0_c0 #d vary from 0 to 1\n",
    "    \n",
    "    theta_f1_c0 = 1 - theta_f0_c0\n",
    "    theta_f1_c1 = 1 - theta_f0_c1\n",
    "\n",
    "    theta_h1_c0 = 0.3\n",
    "    theta_h0_c0 = 1-theta_h1_c0\n",
    "    theta_h1_c1 = 0.4\n",
    "    theta_h0_c1 = 1-theta_h1_c1\n",
    "\n",
    "    coin_sample = nprand.binomial(1, theta_c1)\n",
    "\n",
    "    N = 1000\n",
    "    Coins = nprand.binomial([1 for i in range (N)], theta_c1)\n",
    "\n",
    "    flip1 = nprand.binomial(1, theta_f1_c0)\n",
    "\n",
    "    flip2 = nprand.binomial(1, theta_f1_c1)\n",
    "\n",
    "    def bin_choose(c, theta_0, theta_1):\n",
    "        if c == 0:\n",
    "            return theta_0\n",
    "        else:\n",
    "            return theta_1\n",
    "\n",
    "    Flips = np.array([nprand.binomial(1, bin_choose(c, theta_f1_c0, theta_f1_c1)) for c in Coins])\n",
    "    Hats = np.array([nprand.binomial(1, bin_choose(c, theta_h1_c0, theta_h1_c1)) for c in Coins])\n",
    "    \n",
    "    data = {'Flip' : [x for x in Flips], \n",
    "            'Hat'  : [x for x in Hats], \n",
    "            'Coin' : Coins}\n",
    "    coindata = pd.DataFrame(data)\n",
    "    \n",
    "    coindata.describe()\n",
    "    coindata.plot.density()\n",
    "    plt.show()\n",
    "    coindata.cov()\n",
    "    cov = coindata.cov()\n",
    "    cov.style.background_gradient().set_precision(3)\n",
    "    coindata.to_csv('coindata.csv')\n",
    "    df = pd.read_csv('coindata.csv', index_col=0)\n",
    "    df.describe()\n",
    "    \n",
    "    clf = BernoulliNB()\n",
    "\n",
    "    features = df[['Flip', 'Hat']]\n",
    "    labels = df['Coin']\n",
    "    clf.fit(features, labels)\n",
    "\n",
    "    theta_coin = [math.exp(x) for x in clf.class_log_prior_]\n",
    "    feature_parameters = np.exp(clf.feature_log_prob_)\n",
    "    cvs = cross_val_score(clf, features, labels, cv=10)\n",
    "    print(cvs)\n",
    "    print(np.mean(cvs))\n",
    "\n",
    "    print(\"Accuracy\", accuracy_score(labels, clf.predict(features)))\n",
    "    acc_list.append(accuracy_score(labels, clf.predict(features)))\n",
    "    d_list.append((d/5))\n"
   ]
  },
  {
   "cell_type": "code",
   "execution_count": 2,
   "metadata": {},
   "outputs": [
    {
     "data": {
      "text/plain": [
       "[<matplotlib.lines.Line2D at 0x1a1f42ec50>]"
      ]
     },
     "execution_count": 2,
     "metadata": {},
     "output_type": "execute_result"
    },
    {
     "data": {
      "image/png": "[encoded data removed]",
      "text/plain": [
       "<Figure size 432x288 with 1 Axes>"
      ]
     },
     "metadata": {
      "needs_background": "light"
     },
     "output_type": "display_data"
    }
   ],
   "source": [
    "plt.plot(d_list, acc_list)"
   ]
  },
  {
   "cell_type": "markdown",
   "metadata": {},
   "source": [
    "We can see that overall the accuracy increases as d vary from 0.0 to 1.0.\n",
    "\n",
    "Specifically, when d = {0.0, 0.2}, the accuracy does not change much. When d = {1.0, 4.0}, the accuracy increase significantly.\n",
    "\n",
    "I think the reason why accuracy increase is because that when f00 f01 both equal to 0.5, we are choosing the coin completely randomly. When d becomes larger and larger, we are more and more certain about which coin are we choosing, so that the prediction accuracy becomes higher and higher. When d=1.0, f00=1.0; f01=0.0, we only choose coin 0, therefore the accuracy becomes almost 100%."
   ]
  }
 ],
 "metadata": {
  "kernelspec": {
   "display_name": "Python 3",
   "language": "python",
   "name": "python3"
  },
  "language_info": {
   "codemirror_mode": {
    "name": "ipython",
    "version": 3
   },
   "file_extension": ".py",
   "mimetype": "text/x-python",
   "name": "python",
   "nbconvert_exporter": "python",
   "pygments_lexer": "ipython3",
   "version": "3.7.1"
  }
 },
 "nbformat": 4,
 "nbformat_minor": 2
}
