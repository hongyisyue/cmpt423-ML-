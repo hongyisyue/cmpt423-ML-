{
 "cells": [
  {
   "cell_type": "markdown",
   "metadata": {},
   "source": [
    "# A1Q4 cmpt423\n",
    "Hongyi Xue \n",
    "hox294 \n",
    "11187674"
   ]
  },
  {
   "cell_type": "markdown",
   "metadata": {},
   "source": [
    "a) Assume that a classifier has been trained already (no missing training data), but a prediction has been requested based on an observation that does not include every feature. Give a modified prediction algorithm for this situation.\n",
    "Hint: Without loss of generality, assume features X0 , . . . Xp , and assume that all features but Xp have been observed (Xp is missing). Derive an formula for P(Y|X0,...Xp−1) and then give the modified algorithm based on your formula."
   ]
  },
  {
   "cell_type": "markdown",
   "metadata": {},
   "source": [
    "### Deriving the Naive Bayes classifier:\n",
    "\n",
    "Applying Bayes Rule:\n",
    "    $$ P(Y=y_k | X=x ) = \\frac{P(X=x|Y=y_k)P(Y=y_k)}{P(X=x)}  $$\n",
    "\n",
    "\n",
    "We will assume that $X=x$ is an abbreviation for a conjunction of variable-value pairs.  In other words, we may have several observations $(X_0=x_0 \\wedge X_1=x_1 \\wedge ... X_p=x_p)$, for as many variables as the problem defines.  We'll use $X_i = x_{ij}$ to represent any single feature and its observed value.\n",
    "\n",
    "Naive Bayes Conditional Independence Assumption: Every feature $X_a$ is conditionally independent of every other feature $X_b$, given $Y$. Mathematically:\n",
    "\n",
    " $$P(X=x|Y=y_k) = \\prod_{i=1}^{p} P(X_i=x_{ij}|Y=y_k) $$\n",
    "\n",
    "So the Naive Bayes Classifier is defined as follows:\n",
    "$$ y(x) = \\arg \\max_{k} \\left\\{ \\frac{P(Y=y_k) \\prod_{i=1}^{p} P(X_i=x_{ij}|Y=y_k)}{P(X=x)} \\right\\}$$\n",
    "\n",
    "Since $P(X=x)$ is constant:\n",
    "$$ y(x) = \\arg \\max_{k} \\left\\{ P(Y=y_k) \\prod_{i=1}^{p} P(X_i=x_{ij}|Y=y_k) \\right\\}$$\n",
    "\n",
    "\n",
    "Now given observation of $$X=x_0 ... x_p$$\n",
    "\n",
    "$$P(Y|X_0 ... X_p-1) = \n",
    "$ P(Y=y_k) \\prod_{i=0}^{p-1} $P(X_i=x_{ij}|Y=y_k) $$ for every $y_k$."
   ]
  },
  {
   "cell_type": "markdown",
   "metadata": {},
   "source": [
    "b) An alternative technique to handle missing data is to fill in them with a random value for the feature. Try this technique using coins model from Q1, by randomly replacing one of the observations in every sample in the test set, and calculating the difference in accuracy."
   ]
  },
  {
   "cell_type": "code",
   "execution_count": 1,
   "metadata": {},
   "outputs": [],
   "source": [
    "import numpy.random as nprand\n",
    "import numpy as np\n",
    "import math as math\n",
    "import pandas as pd\n",
    "import matplotlib.pyplot as plt\n",
    "from sklearn.naive_bayes import MultinomialNB, BernoulliNB\n",
    "from sklearn.metrics import accuracy_score\n",
    "from sklearn.model_selection import cross_val_score\n",
    "import random\n",
    "\n",
    "\n",
    "change_list = []\n",
    "acc_list = []\n",
    "\n",
    "\n",
    "theta_c0 = 0.6\n",
    "theta_c1 = 1 - theta_c0\n",
    "\n",
    "theta_f0_c0 = 0.9 #fixed to 0.9 now\n",
    "theta_f0_c1 = 1 - theta_f0_c0 #fixed now\n",
    "    \n",
    "theta_f1_c0 = 1 - theta_f0_c0\n",
    "theta_f1_c1 = 1 - theta_f0_c1\n",
    "\n",
    "theta_h1_c0 = 0.3\n",
    "theta_h0_c0 = 1-theta_h1_c0\n",
    "theta_h1_c1 = 0.4\n",
    "theta_h0_c1 = 1-theta_h1_c1\n",
    "\n",
    "coin_sample = nprand.binomial(1, theta_c1)\n",
    "\n",
    "N = 1000\n",
    "Coins = nprand.binomial([1 for i in range (N)], theta_c1)\n",
    "\n",
    "flip1 = nprand.binomial(1, theta_f1_c0)\n",
    "\n",
    "flip2 = nprand.binomial(1, theta_f1_c1)\n",
    "\n",
    "def bin_choose(c, theta_0, theta_1):\n",
    "    if c == 0:\n",
    "        return theta_0\n",
    "    else:\n",
    "        return theta_1\n",
    "\n",
    "Flips = np.array([nprand.binomial(1, bin_choose(c, theta_f1_c0, theta_f1_c1)) for c in Coins])\n",
    "Hats = np.array([nprand.binomial(1, bin_choose(c, theta_h1_c0, theta_h1_c1)) for c in Coins])\n",
    "    \n",
    "data = {'Flip' : [x for x in Flips], \n",
    "        'Hat'  : [x for x in Hats], \n",
    "        'Coin' : Coins}\n",
    "coindata = pd.DataFrame(data)"
   ]
  },
  {
   "cell_type": "code",
   "execution_count": 2,
   "metadata": {},
   "outputs": [
    {
     "name": "stdout",
     "output_type": "stream",
     "text": [
      "Accuracy:  0.71\n"
     ]
    },
    {
     "data": {
      "text/plain": [
       "[<matplotlib.lines.Line2D at 0x1a1ddb82e8>]"
      ]
     },
     "execution_count": 2,
     "metadata": {},
     "output_type": "execute_result"
    },
    {
     "data": {
      "image/png": "[encoded data removed]",
      "text/plain": [
       "<Figure size 432x288 with 1 Axes>"
      ]
     },
     "metadata": {
      "needs_background": "light"
     },
     "output_type": "display_data"
    }
   ],
   "source": [
    "for row in range(0, 1000):\n",
    "    miss_val = random.randrange(0,2) #randomly pick variables\n",
    "    if miss_val == 0:  \n",
    "        coindata.at[row, 'Flip'] = random.randrange(0,2) #set to random value\n",
    "    elif miss_val == 1:\n",
    "        coindata.at[row, 'Hat'] = random.randrange(0,2)\n",
    "    else:\n",
    "        print(\"???\")\n",
    "    #coindata.to_csv('coindata.csv')\n",
    "    #df = pd.read_csv('coindata.csv', index_col=0)\n",
    "    #df.describe()\n",
    "    \n",
    "    clf = BernoulliNB()\n",
    "    df = coindata\n",
    "    features = df[['Flip', 'Hat']]\n",
    "    labels = df['Coin']\n",
    "    clf.fit(features, labels)\n",
    "\n",
    "    theta_coin = [math.exp(x) for x in clf.class_log_prior_]\n",
    "    feature_parameters = np.exp(clf.feature_log_prob_)\n",
    "    cvs = cross_val_score(clf, features, labels, cv=10)\n",
    "    change_list.append(row)\n",
    "    acc_list.append(accuracy_score(labels, clf.predict(features)))\n",
    "\n",
    "print(\"Accuracy: \", accuracy_score(labels, clf.predict(features)))\n",
    "plt.plot(change_list, acc_list)"
   ]
  },
  {
   "cell_type": "markdown",
   "metadata": {},
   "source": [
    "Comment: We can see that the accuracy drops from around 92% to 70%(with f00=0.9 & f01=0.1). By choosing one of the feature values randomly and change it to a random value, the samples are losing their features when we keep changing more and more samples(from 0 to 1000 samples). Without their distinct feature, the accuracy drops."
   ]
  },
  {
   "cell_type": "markdown",
   "metadata": {},
   "source": [
    "c) An alternative technique to handle missing data is to fill in the missing data with the most likely value for the feature, based on the training set. Try this technique using coins model from Q1, by replacing one of the observations in every sample in the test set with its most likely value in the training data, and calculating the difference in accuracy."
   ]
  },
  {
   "cell_type": "code",
   "execution_count": 3,
   "metadata": {},
   "outputs": [],
   "source": [
    "data = {'Flip' : [x for x in Flips], \n",
    "        'Hat'  : [x for x in Hats], \n",
    "        'Coin' : Coins}\n",
    "\n",
    "new_coindata = pd.DataFrame(data) #the data we will chage"
   ]
  },
  {
   "cell_type": "code",
   "execution_count": 4,
   "metadata": {},
   "outputs": [
    {
     "name": "stdout",
     "output_type": "stream",
     "text": [
      "Accuracy:  0.951\n"
     ]
    }
   ],
   "source": [
    "#take out the value first\n",
    "for row in range(0, 1000):\n",
    "    miss_val = random.randrange(0,2) #randomly choose feature variables(Flip and Hat)\n",
    "\n",
    "    if miss_val == 0:  \n",
    "        new_coindata.at[row, 'Flip'] = 666 #mark as missing variable\n",
    "    elif miss_val == 1:\n",
    "        new_coindata.at[row, 'Hat'] = 666\n",
    "    else:\n",
    "        print(\"???\")\n",
    "\n",
    "#now find the most likely feature for each type of coins\n",
    "coin0 = new_coindata.loc[new_coindata['Coin']==0]\n",
    "coin1 = new_coindata.loc[new_coindata['Coin']==1]\n",
    "\n",
    "f0_c0 = len(coin0.loc[coin0['Flip']==0])\n",
    "f1_c0 = len(coin0.loc[coin0['Flip']==1])\n",
    "h0_c0 = len(coin0.loc[coin0['Hat']==0])\n",
    "h1_c0 = len(coin0.loc[coin0['Hat']==1])\n",
    "\n",
    "f0_c1 = len(coin1.loc[coin1['Flip']==0])\n",
    "f1_c1 = len(coin1.loc[coin1['Flip']==1])\n",
    "h0_c1 = len(coin1.loc[coin1['Hat']==0])\n",
    "h1_c1 = len(coin1.loc[coin1['Hat']==1])\n",
    "\n",
    "if f0_c0>f1_c0:\n",
    "    most_flip_0 = 0\n",
    "else:\n",
    "    most_flip_0 = 1\n",
    "\n",
    "if h0_c0>h1_c0:\n",
    "    most_hat_0 = 0\n",
    "else:\n",
    "    most_hat_0 = 1\n",
    "\n",
    "if f0_c1>f1_c1:\n",
    "    most_flip_1 = 0\n",
    "else:\n",
    "    most_flip_1 = 1\n",
    "if h0_c1>h1_c1:\n",
    "    most_hat_1 = 0\n",
    "else:\n",
    "    most_hat_1 = 1\n",
    "\n",
    "for row in range(0, 1000):\n",
    "    if new_coindata.at[row, 'Flip'] == 666: \n",
    "        if new_coindata.at[row, 'Coin'] == 0:\n",
    "            new_coindata.at[row, 'Flip'] = most_flip_0\n",
    "        else:\n",
    "            new_coindata.at[row, 'Flip'] = most_flip_1\n",
    "    elif new_coindata.at[row, 'Hat'] == 666:\n",
    "        if new_coindata.at[row, 'Coin'] == 0:\n",
    "            new_coindata.at[row, 'Hat'] = most_hat_0\n",
    "        else:\n",
    "            new_coindata.at[row, 'Hat'] = most_hat_1\n",
    "    else:\n",
    "        print(\"something wrong\")\n",
    "    \n",
    "clf = BernoulliNB()\n",
    "df = new_coindata\n",
    "features = df[['Flip', 'Hat']]\n",
    "labels = df['Coin']\n",
    "clf.fit(features, labels)\n",
    "\n",
    "theta_coin = [math.exp(x) for x in clf.class_log_prior_]\n",
    "feature_parameters = np.exp(clf.feature_log_prob_)\n",
    "cvs = cross_val_score(clf, features, labels, cv=10)\n",
    "#change_list2.append(row)\n",
    "#acc_list2.append(accuracy_score(labels, clf.predict(features)))\n",
    "print(\"Accuracy: \", accuracy_score(labels, clf.predict(features)))"
   ]
  },
  {
   "cell_type": "markdown",
   "metadata": {},
   "source": [
    "Comment: Comapre to  the result from b), which is 70% accuracy, the accuracy has a huge improvment(95%). It is even better than the accuracy I get from original data set. I think it is because that when we set the missing data to the_most_likely_value, we actually manipulate the randomness of the dataset. In other wards, we are making the density of the_most_likely_value even higher than the original data set. Therefore, the accuracy is going to be higher based on the higher density of a certain value."
   ]
  }
 ],
 "metadata": {
  "kernelspec": {
   "display_name": "Python 3",
   "language": "python",
   "name": "python3"
  },
  "language_info": {
   "codemirror_mode": {
    "name": "ipython",
    "version": 3
   },
   "file_extension": ".py",
   "mimetype": "text/x-python",
   "name": "python",
   "nbconvert_exporter": "python",
   "pygments_lexer": "ipython3",
   "version": "3.7.1"
  }
 },
 "nbformat": 4,
 "nbformat_minor": 2
}
