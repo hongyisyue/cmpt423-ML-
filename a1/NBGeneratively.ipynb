{
 "cells": [
  {
   "cell_type": "markdown",
   "metadata": {},
   "source": [
    "# Using a Naive Bayes Model Generatively\n",
    "We normally think of Naive Bayes as a classifier, but it can be used to generate data.  This notebook gives the technique.  The idea is that we will generate data that comes from a a Naive Bayes model, and then see how well we can fit a second Naive Bayes model to the data.  This lets us compare the model parameters for accuracy.\n",
    "\n",
    "We'll use the coin flipping example that we started this unit with.  There are three binary random variables: \n",
    "* Flip: the outcome of a coin flip, either 0 (tails) or 1 (heads)\n",
    "* Coin: which coin was chosen to flip, either 0 (coin 0) or 1 (coin 1)\n",
    "* Hat: The colour of the hat worn when the chosen coin was flipped: either 0 (blue) or 1 (red)\n",
    "\n",
    "For our task, we want to predict which coin was used, based on observing the outcome of the Flip and the colour of the Hat.\n",
    "\n",
    "To use the model generatively, we'll specify model parameters, then use them to \"sample\" data that comes from the distribution modelled by the parameters.  Sampling is an important technique for advanced probabilistic models, and it will come up again later!"
   ]
  },
  {
   "cell_type": "markdown",
   "metadata": {},
   "source": [
    "### Model Parameters "
   ]
  },
  {
   "cell_type": "markdown",
   "metadata": {},
   "source": [
    "The first parameter is the probability that coin 0 is chosen.  In terms of Naive Bayes classifiers, this is the distribution $P(Coin) = \\{\\theta_{c0}, \\theta_{c1}\\}$."
   ]
  },
  {
   "cell_type": "code",
   "execution_count": 15,
   "metadata": {},
   "outputs": [],
   "source": [
    "theta_c0 = 0.6\n",
    "theta_c1 = 1 - theta_c0 "
   ]
  },
  {
   "cell_type": "markdown",
   "metadata": {},
   "source": [
    "The strong assumption of conditional independence means that we need model parameters for:\n",
    "* $P(Flip|Coin)$\n",
    "* $P(Hat|Coin)$"
   ]
  },
  {
   "cell_type": "markdown",
   "metadata": {},
   "source": [
    "We start with $P(Flip|Coin)$:\n",
    "* $P(Flip=0|Coin=0) = \\theta_{f00}$\n",
    "* $P(Flip=1|Coin=0) = \\theta_{f10} = 1 - \\theta_{f00}$\n",
    "* $P(Flip=0|Coin=1) = \\theta_{f01}$\n",
    "* $P(Flip=1|Coin=1) = \\theta_{f11} = 1 - \\theta_{f01}$\n",
    "\n",
    "Here, because both variables are binary, the probability over outcomes for the same coin must sum to 1.  Likewise for the other pair.  "
   ]
  },
  {
   "cell_type": "code",
   "execution_count": 16,
   "metadata": {},
   "outputs": [],
   "source": [
    "theta_f1_c0 = 0.1\n",
    "theta_f0_c0 = 1 - theta_f1_c0\n",
    "\n",
    "theta_f1_c1 = 0.9\n",
    "theta_f0_c1 = 1 - theta_f1_c1"
   ]
  },
  {
   "cell_type": "markdown",
   "metadata": {},
   "source": [
    "Now for $P(Hat|Coin)$:\n",
    "* $P(Hat=0|Coin=0) = \\theta_{h00}$\n",
    "* $P(Hat=1|Coin=0) = \\theta_{h10} = 1 - \\theta_{h00}$\n",
    "* $P(Hat=0|Coin=1) = \\theta_{h01}$\n",
    "* $P(Hat=1|Coin=1) = \\theta_{h11} = 1 - \\theta_{h01}$"
   ]
  },
  {
   "cell_type": "code",
   "execution_count": 17,
   "metadata": {},
   "outputs": [],
   "source": [
    "theta_h1_c0 = 0.3\n",
    "theta_h0_c0 = 1 - theta_h1_c0\n",
    "theta_h1_c1 = 0.4\n",
    "theta_h0_c1 = 1 - theta_h1_c1"
   ]
  },
  {
   "cell_type": "markdown",
   "metadata": {},
   "source": [
    "### Generating random data from the model parameters\n",
    "The technique here is specialized for our problem, but represents a pretty general concept.  If we know something about the model, we can ask for samples from it.  If we have a complex model, we can generate samples from it using a number of steps.\n",
    "\n",
    "Because of the structure of the problem, the simplest distribution is $P(Coin)$.  Coin is a binary variable, and the probability distribution is a Bernoulli distribution with $\\theta_{c1}$ controlling the outcome (not $\\theta_{c0}$).  \n",
    "\n",
    "The numpy module has implementations of many useful probability distribution functions, from which you can ask for samples.  It does not have a Bernoulli distribution, but that's okay.  We can use the Binomial distribution instead, and limit the number of outcomes to 1.  \n",
    "\n",
    "The binomial() method takes two arguments.  The first is $N$, the number of trials, and the second is $\\theta$, a probability for the success of each trial.  If we limit $N=1$, we can get a Bernoulli sample, which we can use to generate a choice of a value for which coin was used."
   ]
  },
  {
   "cell_type": "code",
   "execution_count": 18,
   "metadata": {},
   "outputs": [
    {
     "name": "stdout",
     "output_type": "stream",
     "text": [
      "Chose a coin with probability 0.4 and observed 0\n"
     ]
    }
   ],
   "source": [
    "import numpy.random as nprand\n",
    "\n",
    "coin_sample = nprand.binomial(1, theta_c1)\n",
    "print('Chose a coin with probability', theta_c1, 'and observed', coin_sample)"
   ]
  },
  {
   "cell_type": "markdown",
   "metadata": {},
   "source": [
    "We'll need more data than this.  "
   ]
  },
  {
   "cell_type": "code",
   "execution_count": 19,
   "metadata": {},
   "outputs": [],
   "source": [
    "N = 1000"
   ]
  },
  {
   "cell_type": "markdown",
   "metadata": {},
   "source": [
    "### Sampling from $P(Coin)$\n",
    "The function binomial() can generate a numpy array of any size filled with outcomes 0 or 1, according to the given probability.  If the samples are generated with the given probability, we should see roughly $N\\theta$ ones (1), and $N(1-\\theta)$ zeroes (0)."
   ]
  },
  {
   "cell_type": "code",
   "execution_count": 20,
   "metadata": {},
   "outputs": [
    {
     "name": "stdout",
     "output_type": "stream",
     "text": [
      "Ones -- Predicted: 400 , Observed: 394\n"
     ]
    }
   ],
   "source": [
    "Coins = nprand.binomial([1 for i in range (N)], theta_c1)\n",
    "print('Ones -- Predicted:', int(N*theta_c1), ', Observed:', sum(Coins) )"
   ]
  },
  {
   "cell_type": "markdown",
   "metadata": {},
   "source": [
    "### Sampling from $P(Flip|Coin)$\n",
    "This is equivalent to flipping the coin that was chosen.  It's also a Bertnoulli event, but the probability of a succes depends on which coin is chosen.  If we used coin 0, the probability of a head is $\\theta_{f10}$, but if it's coin 1, we use $\\theta_{f11}$."
   ]
  },
  {
   "cell_type": "code",
   "execution_count": 21,
   "metadata": {},
   "outputs": [
    {
     "name": "stdout",
     "output_type": "stream",
     "text": [
      "Flipped coin 0 and landed: 0\n",
      "Flipped coin 1 and landed: 1\n"
     ]
    }
   ],
   "source": [
    "flip1 = nprand.binomial(1, theta_f1_c0)\n",
    "print('Flipped coin 0 and landed:', flip1)\n",
    "\n",
    "flip2 = nprand.binomial(1, theta_f1_c1)\n",
    "print('Flipped coin 1 and landed:', flip2)"
   ]
  },
  {
   "cell_type": "markdown",
   "metadata": {},
   "source": [
    "What we really want is to generate a coin flip outcome for each one of the coin choices we generated earlier.  To do this, we'll go through the Coin choices one by one, and decide whether to use $\\theta_{f10}$, or $\\theta_{f11}$ based on the value of Coin.  \n",
    "\n",
    "The simple function called bin_choose() decides which $\\theta$ value to return, based on which coin was used.  We'll use it again to sample from $P(Hat|Coin)$"
   ]
  },
  {
   "cell_type": "code",
   "execution_count": 22,
   "metadata": {},
   "outputs": [],
   "source": [
    "import numpy as np\n",
    "\n",
    "def bin_choose(c, theta_0, theta_1):\n",
    "    if c == 0:\n",
    "        return theta_0\n",
    "    else:\n",
    "        return theta_1\n",
    "\n",
    "Flips = np.array([nprand.binomial(1, bin_choose(c, theta_f1_c0, theta_f1_c1)) for c in Coins])"
   ]
  },
  {
   "cell_type": "markdown",
   "metadata": {},
   "source": [
    "### Sampling from $P(Hat|Coin)$\n",
    "According to the model, we need to sample a Hat depending on the Coin, too.  If this sounds weird, or not realistic,  that's probably true.  It;s what the model says, though, so we  have to do it."
   ]
  },
  {
   "cell_type": "code",
   "execution_count": 23,
   "metadata": {},
   "outputs": [],
   "source": [
    "Hats = np.array([nprand.binomial(1, bin_choose(c, theta_h1_c0, theta_h1_c1)) for c in Coins])"
   ]
  },
  {
   "cell_type": "markdown",
   "metadata": {},
   "source": [
    "### Elementary data wrangling using Pandas\n",
    "We've generated three lists of outcomes.  We'll make use of Pandas, a Python tool for organizing and working with datasets.  It's so popular that most Python package managers install it by default.  It is certainly almost always installed with Anaconda.\n",
    "\n",
    "A dataframe is an object that behaves a little like a multi-dimentional list, or a 2D numpy array, but with far more flexibility and far more built-in tools.  Here's we'll just create a dataframe using one of the ways they can be generated.  First, a dictionary, and then the dataframe."
   ]
  },
  {
   "cell_type": "code",
   "execution_count": 24,
   "metadata": {},
   "outputs": [],
   "source": [
    "import pandas as pd\n",
    "\n",
    "data = {'Flip' : [x for x in Flips], \n",
    "        'Hat'  : [x for x in Hats], \n",
    "        'Coin' : Coins}\n",
    "coindata = pd.DataFrame(data)"
   ]
  },
  {
   "cell_type": "markdown",
   "metadata": {},
   "source": [
    "One of Panda's basic data analysis tools is the describe() method:"
   ]
  },
  {
   "cell_type": "code",
   "execution_count": 25,
   "metadata": {
    "scrolled": true
   },
   "outputs": [
    {
     "data": {
      "text/html": [
       "<div>\n",
       "<style scoped>\n",
       "    .dataframe tbody tr th:only-of-type {\n",
       "        vertical-align: middle;\n",
       "    }\n",
       "\n",
       "    .dataframe tbody tr th {\n",
       "        vertical-align: top;\n",
       "    }\n",
       "\n",
       "    .dataframe thead th {\n",
       "        text-align: right;\n",
       "    }\n",
       "</style>\n",
       "<table border=\"1\" class=\"dataframe\">\n",
       "  <thead>\n",
       "    <tr style=\"text-align: right;\">\n",
       "      <th></th>\n",
       "      <th>Flip</th>\n",
       "      <th>Hat</th>\n",
       "      <th>Coin</th>\n",
       "    </tr>\n",
       "  </thead>\n",
       "  <tbody>\n",
       "    <tr>\n",
       "      <th>count</th>\n",
       "      <td>1000.000000</td>\n",
       "      <td>1000.000000</td>\n",
       "      <td>1000.000000</td>\n",
       "    </tr>\n",
       "    <tr>\n",
       "      <th>mean</th>\n",
       "      <td>0.409000</td>\n",
       "      <td>0.348000</td>\n",
       "      <td>0.394000</td>\n",
       "    </tr>\n",
       "    <tr>\n",
       "      <th>std</th>\n",
       "      <td>0.491895</td>\n",
       "      <td>0.476574</td>\n",
       "      <td>0.488879</td>\n",
       "    </tr>\n",
       "    <tr>\n",
       "      <th>min</th>\n",
       "      <td>0.000000</td>\n",
       "      <td>0.000000</td>\n",
       "      <td>0.000000</td>\n",
       "    </tr>\n",
       "    <tr>\n",
       "      <th>25%</th>\n",
       "      <td>0.000000</td>\n",
       "      <td>0.000000</td>\n",
       "      <td>0.000000</td>\n",
       "    </tr>\n",
       "    <tr>\n",
       "      <th>50%</th>\n",
       "      <td>0.000000</td>\n",
       "      <td>0.000000</td>\n",
       "      <td>0.000000</td>\n",
       "    </tr>\n",
       "    <tr>\n",
       "      <th>75%</th>\n",
       "      <td>1.000000</td>\n",
       "      <td>1.000000</td>\n",
       "      <td>1.000000</td>\n",
       "    </tr>\n",
       "    <tr>\n",
       "      <th>max</th>\n",
       "      <td>1.000000</td>\n",
       "      <td>1.000000</td>\n",
       "      <td>1.000000</td>\n",
       "    </tr>\n",
       "  </tbody>\n",
       "</table>\n",
       "</div>"
      ],
      "text/plain": [
       "              Flip          Hat         Coin\n",
       "count  1000.000000  1000.000000  1000.000000\n",
       "mean      0.409000     0.348000     0.394000\n",
       "std       0.491895     0.476574     0.488879\n",
       "min       0.000000     0.000000     0.000000\n",
       "25%       0.000000     0.000000     0.000000\n",
       "50%       0.000000     0.000000     0.000000\n",
       "75%       1.000000     1.000000     1.000000\n",
       "max       1.000000     1.000000     1.000000"
      ]
     },
     "execution_count": 25,
     "metadata": {},
     "output_type": "execute_result"
    }
   ],
   "source": [
    "coindata.describe()"
   ]
  },
  {
   "cell_type": "markdown",
   "metadata": {},
   "source": [
    "### Pandas data tools\n",
    "Pandas has lots of other tools.  Here's a sampler."
   ]
  },
  {
   "cell_type": "markdown",
   "metadata": {},
   "source": [
    "Pandas can display a density plot, using another Python package called MatPlotLib.  This one is a little prettier than a table generated by describe()."
   ]
  },
  {
   "cell_type": "code",
   "execution_count": 26,
   "metadata": {
    "scrolled": true
   },
   "outputs": [
    {
     "data": {
      "image/png": "[encoded data removed]",
      "text/plain": [
       "<Figure size 432x288 with 1 Axes>"
      ]
     },
     "metadata": {
      "needs_background": "light"
     },
     "output_type": "display_data"
    }
   ],
   "source": [
    "import matplotlib.pyplot as plt\n",
    "\n",
    "coindata.plot.density()\n",
    "plt.show()"
   ]
  },
  {
   "cell_type": "markdown",
   "metadata": {},
   "source": [
    "# Pandas can also display a table of covariances using the method cov().  Don't let this slip past your attention.  Notice that the covariance between Hat and Flip is small.  This is what we should expect if Flip is conditionally independent of Hat, given Coin, as per our strong assumption.  "
   ]
  },
  {
   "cell_type": "code",
   "execution_count": 13,
   "metadata": {
    "scrolled": true
   },
   "outputs": [
    {
     "data": {
      "text/html": [
       "<div>\n",
       "<style scoped>\n",
       "    .dataframe tbody tr th:only-of-type {\n",
       "        vertical-align: middle;\n",
       "    }\n",
       "\n",
       "    .dataframe tbody tr th {\n",
       "        vertical-align: top;\n",
       "    }\n",
       "\n",
       "    .dataframe thead th {\n",
       "        text-align: right;\n",
       "    }\n",
       "</style>\n",
       "<table border=\"1\" class=\"dataframe\">\n",
       "  <thead>\n",
       "    <tr style=\"text-align: right;\">\n",
       "      <th></th>\n",
       "      <th>Flip</th>\n",
       "      <th>Hat</th>\n",
       "      <th>Coin</th>\n",
       "    </tr>\n",
       "  </thead>\n",
       "  <tbody>\n",
       "    <tr>\n",
       "      <th>Flip</th>\n",
       "      <td>0.241593</td>\n",
       "      <td>0.029685</td>\n",
       "      <td>0.187457</td>\n",
       "    </tr>\n",
       "    <tr>\n",
       "      <th>Hat</th>\n",
       "      <td>0.029685</td>\n",
       "      <td>0.222998</td>\n",
       "      <td>0.032382</td>\n",
       "    </tr>\n",
       "    <tr>\n",
       "      <th>Coin</th>\n",
       "      <td>0.187457</td>\n",
       "      <td>0.032382</td>\n",
       "      <td>0.238138</td>\n",
       "    </tr>\n",
       "  </tbody>\n",
       "</table>\n",
       "</div>"
      ],
      "text/plain": [
       "          Flip       Hat      Coin\n",
       "Flip  0.241593  0.029685  0.187457\n",
       "Hat   0.029685  0.222998  0.032382\n",
       "Coin  0.187457  0.032382  0.238138"
      ]
     },
     "execution_count": 13,
     "metadata": {},
     "output_type": "execute_result"
    }
   ],
   "source": [
    "coindata.cov()"
   ]
  },
  {
   "cell_type": "markdown",
   "metadata": {},
   "source": [
    "There's so many options and techniques, it's a little overwhelming.  Here's a covariance matrix that's colour-coded.  The dark colour is a little too dark to read, but it conveys information."
   ]
  },
  {
   "cell_type": "code",
   "execution_count": 14,
   "metadata": {
    "scrolled": true
   },
   "outputs": [
    {
     "data": {
      "text/html": [
       "<style  type=\"text/css\" >\n",
       "    #T_d2662952_1ffa_11e9_8338_72000860a3c0row0_col0 {\n",
       "            background-color:  #023858;\n",
       "        }    #T_d2662952_1ffa_11e9_8338_72000860a3c0row0_col1 {\n",
       "            background-color:  #fff7fb;\n",
       "        }    #T_d2662952_1ffa_11e9_8338_72000860a3c0row0_col2 {\n",
       "            background-color:  #056faf;\n",
       "        }    #T_d2662952_1ffa_11e9_8338_72000860a3c0row1_col0 {\n",
       "            background-color:  #fff7fb;\n",
       "        }    #T_d2662952_1ffa_11e9_8338_72000860a3c0row1_col1 {\n",
       "            background-color:  #023858;\n",
       "        }    #T_d2662952_1ffa_11e9_8338_72000860a3c0row1_col2 {\n",
       "            background-color:  #fff7fb;\n",
       "        }    #T_d2662952_1ffa_11e9_8338_72000860a3c0row2_col0 {\n",
       "            background-color:  #0771b1;\n",
       "        }    #T_d2662952_1ffa_11e9_8338_72000860a3c0row2_col1 {\n",
       "            background-color:  #fdf5fa;\n",
       "        }    #T_d2662952_1ffa_11e9_8338_72000860a3c0row2_col2 {\n",
       "            background-color:  #023858;\n",
       "        }</style>  \n",
       "<table id=\"T_d2662952_1ffa_11e9_8338_72000860a3c0\" > \n",
       "<thead>    <tr> \n",
       "        <th class=\"blank level0\" ></th> \n",
       "        <th class=\"col_heading level0 col0\" >Flip</th> \n",
       "        <th class=\"col_heading level0 col1\" >Hat</th> \n",
       "        <th class=\"col_heading level0 col2\" >Coin</th> \n",
       "    </tr></thead> \n",
       "<tbody>    <tr> \n",
       "        <th id=\"T_d2662952_1ffa_11e9_8338_72000860a3c0level0_row0\" class=\"row_heading level0 row0\" >Flip</th> \n",
       "        <td id=\"T_d2662952_1ffa_11e9_8338_72000860a3c0row0_col0\" class=\"data row0 col0\" >0.242</td> \n",
       "        <td id=\"T_d2662952_1ffa_11e9_8338_72000860a3c0row0_col1\" class=\"data row0 col1\" >0.0297</td> \n",
       "        <td id=\"T_d2662952_1ffa_11e9_8338_72000860a3c0row0_col2\" class=\"data row0 col2\" >0.187</td> \n",
       "    </tr>    <tr> \n",
       "        <th id=\"T_d2662952_1ffa_11e9_8338_72000860a3c0level0_row1\" class=\"row_heading level0 row1\" >Hat</th> \n",
       "        <td id=\"T_d2662952_1ffa_11e9_8338_72000860a3c0row1_col0\" class=\"data row1 col0\" >0.0297</td> \n",
       "        <td id=\"T_d2662952_1ffa_11e9_8338_72000860a3c0row1_col1\" class=\"data row1 col1\" >0.223</td> \n",
       "        <td id=\"T_d2662952_1ffa_11e9_8338_72000860a3c0row1_col2\" class=\"data row1 col2\" >0.0324</td> \n",
       "    </tr>    <tr> \n",
       "        <th id=\"T_d2662952_1ffa_11e9_8338_72000860a3c0level0_row2\" class=\"row_heading level0 row2\" >Coin</th> \n",
       "        <td id=\"T_d2662952_1ffa_11e9_8338_72000860a3c0row2_col0\" class=\"data row2 col0\" >0.187</td> \n",
       "        <td id=\"T_d2662952_1ffa_11e9_8338_72000860a3c0row2_col1\" class=\"data row2 col1\" >0.0324</td> \n",
       "        <td id=\"T_d2662952_1ffa_11e9_8338_72000860a3c0row2_col2\" class=\"data row2 col2\" >0.238</td> \n",
       "    </tr></tbody> \n",
       "</table> "
      ],
      "text/plain": [
       "<pandas.io.formats.style.Styler at 0x1a1ffe46d8>"
      ]
     },
     "execution_count": 14,
     "metadata": {},
     "output_type": "execute_result"
    }
   ],
   "source": [
    "cov = coindata.cov()\n",
    "cov.style.background_gradient().set_precision(3)"
   ]
  },
  {
   "cell_type": "markdown",
   "metadata": {},
   "source": [
    "Finally, let's write the datafile to disk, as a comma-separated file (csv)."
   ]
  },
  {
   "cell_type": "code",
   "execution_count": 15,
   "metadata": {},
   "outputs": [],
   "source": [
    "coindata.to_csv('coindata.csv')"
   ]
  }
 ],
 "metadata": {
  "kernelspec": {
   "display_name": "Python 3",
   "language": "python",
   "name": "python3"
  },
  "language_info": {
   "codemirror_mode": {
    "name": "ipython",
    "version": 3
   },
   "file_extension": ".py",
   "mimetype": "text/x-python",
   "name": "python",
   "nbconvert_exporter": "python",
   "pygments_lexer": "ipython3",
   "version": "3.7.1"
  }
 },
 "nbformat": 4,
 "nbformat_minor": 2
}
